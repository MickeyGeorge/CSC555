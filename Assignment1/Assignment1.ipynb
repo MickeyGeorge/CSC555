{
 "cells": [
  {
   "cell_type": "code",
   "execution_count": 35,
   "metadata": {},
   "outputs": [],
   "source": [
    "import numpy as np"
   ]
  },
  {
   "cell_type": "code",
   "execution_count": 37,
   "metadata": {},
   "outputs": [],
   "source": [
    "# Given vectors V1 = (1, 2, 3) \n",
    "# and V2 = (2, 1, 3) \n",
    "# and a 3x3 matrix M = [(2, 1, 3), (1, 2, 1), (1, 0, 2)], \n",
    "\n",
    "V1 = np.array([1, 2, 3])\n",
    "V2 = np.array([2, 1, 3])\n",
    "M = np.matrix([[2,1,3],[1,2,1],[1,0,2]])"
   ]
  },
  {
   "cell_type": "code",
   "execution_count": 38,
   "metadata": {},
   "outputs": [
    {
     "data": {
      "text/plain": [
       "array([ 1, -1,  0])"
      ]
     },
     "execution_count": 38,
     "metadata": {},
     "output_type": "execute_result"
    }
   ],
   "source": [
    "# compute: V2 – V1\n",
    "V2-V1"
   ]
  },
  {
   "cell_type": "code",
   "execution_count": 39,
   "metadata": {},
   "outputs": [
    {
     "data": {
      "text/plain": [
       "array([3, 3, 6])"
      ]
     },
     "execution_count": 39,
     "metadata": {},
     "output_type": "execute_result"
    }
   ],
   "source": [
    "# compute: V2 + V1\n",
    "V2+V1"
   ]
  },
  {
   "cell_type": "code",
   "execution_count": 40,
   "metadata": {},
   "outputs": [
    {
     "data": {
      "text/plain": [
       "3.7416573867739413"
      ]
     },
     "execution_count": 40,
     "metadata": {},
     "output_type": "execute_result"
    }
   ],
   "source": [
    "# compute: |V1|\n",
    "np.linalg.norm(V1)"
   ]
  },
  {
   "cell_type": "code",
   "execution_count": 41,
   "metadata": {},
   "outputs": [
    {
     "data": {
      "text/plain": [
       "3.7416573867739413"
      ]
     },
     "execution_count": 41,
     "metadata": {},
     "output_type": "execute_result"
    }
   ],
   "source": [
    "# compute: |V2|\n",
    "np.linalg.norm(V2)"
   ]
  },
  {
   "cell_type": "code",
   "execution_count": 42,
   "metadata": {},
   "outputs": [
    {
     "data": {
      "text/plain": [
       "matrix([[13],\n",
       "        [ 8],\n",
       "        [ 7]])"
      ]
     },
     "execution_count": 42,
     "metadata": {},
     "output_type": "execute_result"
    }
   ],
   "source": [
    "# compute: M * V1 (matrix times vector, transpose it as necessary\n",
    "M * np.transpose(V1[np.newaxis])"
   ]
  },
  {
   "cell_type": "code",
   "execution_count": 43,
   "metadata": {},
   "outputs": [
    {
     "data": {
      "text/plain": [
       "matrix([[ 8,  4, 13],\n",
       "        [ 5,  5,  7],\n",
       "        [ 4,  1,  7]])"
      ]
     },
     "execution_count": 43,
     "metadata": {},
     "output_type": "execute_result"
    }
   ],
   "source": [
    "# compute: M * M (or M^2)\n",
    "M**2"
   ]
  },
  {
   "cell_type": "code",
   "execution_count": 44,
   "metadata": {},
   "outputs": [
    {
     "data": {
      "text/plain": [
       "matrix([[33, 16, 54],\n",
       "        [22, 15, 34],\n",
       "        [16,  6, 27]])"
      ]
     },
     "execution_count": 44,
     "metadata": {},
     "output_type": "execute_result"
    }
   ],
   "source": [
    "# compute: M^3\n",
    "M**3"
   ]
  },
  {
   "cell_type": "code",
   "execution_count": 45,
   "metadata": {},
   "outputs": [
    {
     "data": {
      "text/plain": [
       "0.038400000000000004"
      ]
     },
     "execution_count": 45,
     "metadata": {},
     "output_type": "execute_result"
    }
   ],
   "source": [
    "# c) Suppose we are flipping a coin with Head (H) and Tail (T) sides. \n",
    "# The coin is not balanced with 0.6 probability of H coming up (and 0.4 of T). \n",
    "#Compute the probabilities of getting:\n",
    "\n",
    "#HTTT\n",
    "\n",
    "0.6 * 0.4 * 0.4 * 0.4"
   ]
  },
  {
   "cell_type": "code",
   "execution_count": 46,
   "metadata": {},
   "outputs": [
    {
     "data": {
      "text/plain": [
       "0.038400000000000004"
      ]
     },
     "execution_count": 46,
     "metadata": {},
     "output_type": "execute_result"
    }
   ],
   "source": [
    "# THTT\n",
    "\n",
    "0.4 * 0.6 * 0.4 * 0.4"
   ]
  },
  {
   "cell_type": "code",
   "execution_count": 50,
   "metadata": {},
   "outputs": [
    {
     "data": {
      "text/plain": [
       "0.15360000000000004"
      ]
     },
     "execution_count": 50,
     "metadata": {},
     "output_type": "execute_result"
    }
   ],
   "source": [
    "# Exactly 1 Head out of a sequence of 4 coin flips.\n",
    "# HTTT THTT TTHT TTTH\n",
    "\n",
    "# Each combination has the same probability, simply add the probabilities\n",
    "(0.6 * 0.4 * 0.4 * 0.4) + (0.4 * 0.6 * 0.4 * 0.4) + (0.4 * 0.4 * 0.6 * 0.4) + (0.4 * 0.4 * 0.4 * 0.6)"
   ]
  },
  {
   "cell_type": "code",
   "execution_count": 51,
   "metadata": {},
   "outputs": [
    {
     "data": {
      "text/plain": [
       "0.3456"
      ]
     },
     "execution_count": 51,
     "metadata": {},
     "output_type": "execute_result"
    }
   ],
   "source": [
    "# Exactly 1 Tail out of sequence of 4 coin flips.\n",
    "# THHH HTHH HHTH HHHT\n",
    "\n",
    "# Each combination has the same probability, simply add the probabilities\n",
    "(0.4 * 0.6 * 0.6 * 0.6) + (0.6 * 0.4 * 0.6 * 0.6) + (0.6 * 0.6 * 0.4 * 0.6) + (0.6 * 0.6 * 0.6 * 0.4)"
   ]
  },
  {
   "cell_type": "code",
   "execution_count": null,
   "metadata": {},
   "outputs": [],
   "source": []
  }
 ],
 "metadata": {
  "kernelspec": {
   "display_name": "Python 3",
   "language": "python",
   "name": "python3"
  },
  "language_info": {
   "codemirror_mode": {
    "name": "ipython",
    "version": 3
   },
   "file_extension": ".py",
   "mimetype": "text/x-python",
   "name": "python",
   "nbconvert_exporter": "python",
   "pygments_lexer": "ipython3",
   "version": "3.7.1"
  }
 },
 "nbformat": 4,
 "nbformat_minor": 2
}
